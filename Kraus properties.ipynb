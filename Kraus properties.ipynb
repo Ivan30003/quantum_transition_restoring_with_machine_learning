{
 "cells": [
  {
   "cell_type": "code",
   "execution_count": 18,
   "metadata": {},
   "outputs": [],
   "source": [
    "import numpy as np\n",
    "import matplotlib.pyplot as plt\n",
    "from scipy.stats import unitary_group\n",
    "from tqdm import tqdm\n",
    "import random\n",
    "import time"
   ]
  },
  {
   "cell_type": "code",
   "execution_count": 19,
   "metadata": {},
   "outputs": [],
   "source": [
    "np.random.seed(seed=233423)\n",
    "\n",
    "n_qubits = 3\n",
    "\n",
    "plt.rcParams[\"figure.figsize\"] = (6,6)"
   ]
  },
  {
   "cell_type": "markdown",
   "metadata": {},
   "source": [
    "# Step_1 generation Kraus matrix"
   ]
  },
  {
   "cell_type": "code",
   "execution_count": 20,
   "metadata": {},
   "outputs": [
    {
     "name": "stdout",
     "output_type": "stream",
     "text": [
      "generating time: --- 0.0030002593994140625 seconds ---\n"
     ]
    }
   ],
   "source": [
    "def generate_kraus_matrix(n_qubits, rank_of_transition, alpha):\n",
    "    start_time = time.time()\n",
    "    size = 2**n_qubits\n",
    "    \n",
    "    M_matrices = []\n",
    "    V = unitary_group.rvs(size * rank_of_transition)\n",
    "    for i in range(rank_of_transition):\n",
    "        M_matrices.append(V[i * size: (i+1) * size, 0: size])\n",
    "    \n",
    "    rand_unit_matr = unitary_group.rvs(size)\n",
    "    tensor_dot_matr_U = np.kron(rand_unit_matr, np.conjugate(rand_unit_matr))\n",
    "    tensor_dot_matr_sum = np.kron(M_matrices[0], np.conjugate(M_matrices[0]))\n",
    "    for j in range(1, rank_of_transition):\n",
    "        tensor_dot_matr_sum += np.kron(M_matrices[j], np.conjugate(M_matrices[j]))    \n",
    "\n",
    "    trans_matr = (1 - alpha) * tensor_dot_matr_U + alpha * tensor_dot_matr_sum\n",
    "    print(\"generating time: --- %s seconds ---\" % (time.time() - start_time))\n",
    "    return trans_matr\n",
    "    \n",
    "\n",
    "rank_of_transition = 3\n",
    "alpha = 0.6\n",
    "transition_matrix = generate_kraus_matrix(n_qubits, rank_of_transition, alpha)"
   ]
  },
  {
   "cell_type": "markdown",
   "metadata": {},
   "source": [
    "# Step_2 Check Kraus Matrix"
   ]
  },
  {
   "cell_type": "code",
   "execution_count": 21,
   "metadata": {},
   "outputs": [
    {
     "name": "stdout",
     "output_type": "stream",
     "text": [
      "eigen values calculating time: --- 0.026001453399658203 seconds ---\n"
     ]
    }
   ],
   "source": [
    "def calculate_eigen_values_of_Kraus(transition_matrix):\n",
    "    start_time = time.time()\n",
    "    x = np.array([])\n",
    "    y = np.array([])\n",
    "    r = np.array([])\n",
    "    eigs = np.linalg.eig(transition_matrix)[0]\n",
    "    x = np.concatenate((x,np.real(eigs)))\n",
    "    y = np.concatenate((y,np.imag(eigs)))\n",
    "    r = np.concatenate((r,np.abs(eigs)))\n",
    "    print(\"eigen values calculating time: --- %s seconds ---\" % (time.time() - start_time))\n",
    "    return x, y, r\n",
    "\n",
    "x, y, r = calculate_eigen_values_of_Kraus(transition_matrix)"
   ]
  },
  {
   "cell_type": "code",
   "execution_count": 22,
   "metadata": {
    "scrolled": true
   },
   "outputs": [
    {
     "data": {
      "image/png": "[encoded data removed]",
      "text/plain": [
       "<Figure size 432x432 with 1 Axes>"
      ]
     },
     "metadata": {
      "needs_background": "light"
     },
     "output_type": "display_data"
    },
    {
     "data": {
      "image/png": "[encoded data removed]",
      "text/plain": [
       "<Figure size 432x432 with 1 Axes>"
      ]
     },
     "metadata": {
      "needs_background": "light"
     },
     "output_type": "display_data"
    }
   ],
   "source": [
    "def draw_eigen_values_of_Kraus(x, y, r):\n",
    "    circle = plt.Circle((0, 0), 1.0, color='r', fill = False)\n",
    "    plt.gca().add_patch(circle)\n",
    "    if len(transition_matrix) >= 5000:\n",
    "        plt.scatter(x,y, alpha = 0.01)\n",
    "    elif len(transition_matrix) >= 500:\n",
    "        plt.scatter(x,y, alpha = 0.1)\n",
    "    else:\n",
    "        plt.scatter(x,y, alpha = 1.0)\n",
    "    plt.xlabel('Re')\n",
    "    plt.ylabel('Im')\n",
    "    plt.grid(True)\n",
    "    plt.show()\n",
    "    # eigen values density from r\n",
    "    num_of_intervals = 20\n",
    "    density = []\n",
    "    intervals_values = np.arange(0.005, 1.055, 0.05)\n",
    "    for i in range(num_of_intervals):\n",
    "        amount = len(r[(intervals_values[i] < r) & (r < intervals_values[i+1])])\n",
    "        density.append(amount/(len(transition_matrix)))\n",
    "    x = np.arange(0.0, 1.0, 0.05)\n",
    "    assert 0.999 < np.sum(density) < 1.001, f\"sum = {np.sum(density)} sum must be 1.000\"\n",
    "    plt.bar(x, density, 0.05)\n",
    "    plt.grid(True)\n",
    "    plt.xlabel('r')\n",
    "    plt.ylabel('eigen values density')\n",
    "    plt.show()\n",
    "        \n",
    "draw_eigen_values_of_Kraus(x, y, r)"
   ]
  },
  {
   "cell_type": "markdown",
   "metadata": {},
   "source": [
    "# Step_3 generating initial states as Pauli chains"
   ]
  },
  {
   "cell_type": "code",
   "execution_count": 23,
   "metadata": {
    "scrolled": true
   },
   "outputs": [
    {
     "name": "stderr",
     "output_type": "stream",
     "text": [
      "100%|██████████████████████████████████████| 216/216 [00:00<00:00, 1393.47it/s]\n"
     ]
    },
    {
     "name": "stdout",
     "output_type": "stream",
     "text": [
      "init dense_matrices generating time: --- 0.16200923919677734 seconds ---\n"
     ]
    }
   ],
   "source": [
    "\"0,1,2,3,4,5\"\n",
    "\"0,1,+,-,i,-i\"\n",
    "\n",
    "class InitStateGenerator:\n",
    "    def __init__(self, n_qubits):\n",
    "        self.n_qubits = n_qubits\n",
    "        self.rotate_one_qubit_x = np.array([[0.0, 1.0], \n",
    "                                            [1.0, 0.0]])\n",
    "        self.rotate_one_qubit_y = np.array([[0.0, -1.0j], \n",
    "                                            [1.0j, 0.0]])\n",
    "        self.rotate_one_qubit_z = np.array([[1.0, 0.0], \n",
    "                                            [0.0, -1.0]])\n",
    "        self.identity_matrix = np.array([[1.0, 0.0], \n",
    "                                         [0.0, 1.0]])\n",
    "        self.hadamar_matrix = np.array([[1.0, 1.0], \n",
    "                                        [1.0, -1.0]])/np.sqrt(2)\n",
    "        self.phase_matrix = np.array([[1.0, 0.0], \n",
    "                                      [0.0, 1.0j]])\n",
    "        self.num_of_basis_states = 6\n",
    "        self.combinations = []\n",
    "        \n",
    "\n",
    "    def rotator(self, dense_matrix, qubit_number, state_rotate_to):\n",
    "        if state_rotate_to == 1:\n",
    "            rotate_matrix = self.rotate_one_qubit_x\n",
    "        if state_rotate_to == 2:\n",
    "            rotate_matrix = self.hadamar_matrix\n",
    "        if state_rotate_to == 3:\n",
    "            rotate_matrix = self.hadamar_matrix @ self.rotate_one_qubit_x\n",
    "        if state_rotate_to == 4:\n",
    "            rotate_matrix = self.phase_matrix @ self.hadamar_matrix\n",
    "        if state_rotate_to == 5:\n",
    "            rotate_matrix = self.phase_matrix @ self.hadamar_matrix @ self.rotate_one_qubit_x\n",
    "        \n",
    "        transform_matrix = 1\n",
    "        for i in range(self.n_qubits):\n",
    "            if i==qubit_number:\n",
    "                transform_matrix = np.kron(rotate_matrix, transform_matrix)\n",
    "            else:\n",
    "                transform_matrix = np.kron(self.identity_matrix, transform_matrix)\n",
    "        new_dense_matrix = transform_matrix @ dense_matrix @ np.conjugate(transform_matrix.T)\n",
    "        return new_dense_matrix\n",
    "    \n",
    "    def generate_combination(self, num):\n",
    "        a = [num%self.num_of_basis_states]\n",
    "        while num//self.num_of_basis_states>0:\n",
    "            num = num // self.num_of_basis_states\n",
    "            a.append(num%self.num_of_basis_states)\n",
    "        \n",
    "        while len(a) < self.n_qubits:\n",
    "            a.append(0)\n",
    "    \n",
    "        return a\n",
    "    \n",
    "    def generate_state(self, combination:list):\n",
    "        n_qubits = len(combination)\n",
    "        dense_matrix = np.zeros((2**n_qubits, 2**n_qubits))\n",
    "        dense_matrix[0][0] = 1.0\n",
    "        for i in range(n_qubits):\n",
    "            if combination[i] > 0:\n",
    "                dense_matrix = self.rotator(dense_matrix, i, combination[i])\n",
    "            \n",
    "        return dense_matrix\n",
    "    \n",
    "    def generate(self, num_of_states):\n",
    "        dense_matrices = []\n",
    "        for i in tqdm(range(num_of_states)):\n",
    "            combination = self.generate_combination(i)\n",
    "            self.combinations.append(combination)\n",
    "            dense_matrices.append(self.generate_state(combination))\n",
    "        return self.combinations, dense_matrices\n",
    "\n",
    "\n",
    "num_of_basis_states = 6\n",
    "init_states_generator = InitStateGenerator(n_qubits)\n",
    "\n",
    "start_time = time.time()\n",
    "init_combinations, init_dense_matrices = init_states_generator.generate(num_of_basis_states**n_qubits)\n",
    "print(\"init dense_matrices generating time: --- %s seconds ---\" % (time.time() - start_time))"
   ]
  },
  {
   "cell_type": "code",
   "execution_count": 24,
   "metadata": {},
   "outputs": [],
   "source": [
    "for i in range(len(init_dense_matrices)):\n",
    "    if 0.9999 < np.abs(np.sum(np.diag(init_dense_matrices[i]))) < 1.0001:\n",
    "        pass\n",
    "    else:\n",
    "        print(f\"Warning! trace of {i} dense matrix is {np.abs(np.sum(np.diag(dense_matrices[i])))}\")\n",
    "    if np.max((np.conjugate(init_dense_matrices[i]) - init_dense_matrices[i].T)) < 0.0001:\n",
    "        pass\n",
    "    else:\n",
    "        print(f\"Warning! max of (dense matrix - dense matrix_dagger) for index {i} \\\n",
    "              is {np.abs(np.sum(np.diag(init_dense_matrices[i])))}\")"
   ]
  },
  {
   "cell_type": "markdown",
   "metadata": {},
   "source": [
    "# Step_4 applying transition matrix"
   ]
  },
  {
   "cell_type": "code",
   "execution_count": 25,
   "metadata": {},
   "outputs": [],
   "source": [
    "dense_matrices = []\n",
    "for i in range(len(init_dense_matrices)):\n",
    "    dense_matrices.append((transition_matrix @ init_dense_matrices[i].reshape(4**n_qubits)).\n",
    "                             reshape((2**n_qubits, 2**n_qubits)))"
   ]
  },
  {
   "cell_type": "code",
   "execution_count": 26,
   "metadata": {},
   "outputs": [],
   "source": [
    "for i in range(len(dense_matrices)):\n",
    "    if 0.9999 < np.abs(np.sum(np.diag(dense_matrices[i]))) < 1.0001:\n",
    "        pass\n",
    "    else:\n",
    "        print(f\"Warning! trace of {i} dense matrix is {np.abs(np.sum(np.diag(dense_matrices[i])))}\")\n",
    "    if np.max((np.conjugate(dense_matrices[i]) - dense_matrices[i].T)) < 0.0001:\n",
    "        pass\n",
    "    else:\n",
    "        print(f\"Warning! max of (dense matrix - dense matrix_dagger) for index {i} \\\n",
    "              is {np.abs(np.sum(np.diag(dense_matrices[i])))}\")"
   ]
  },
  {
   "cell_type": "markdown",
   "metadata": {},
   "source": [
    "# Step_5 sampling exit data"
   ]
  },
  {
   "cell_type": "code",
   "execution_count": 29,
   "metadata": {},
   "outputs": [
    {
     "name": "stderr",
     "output_type": "stream",
     "text": [
      "100%|████████████████████████████████████████| 216/216 [00:11<00:00, 20.30it/s]\n"
     ]
    },
    {
     "name": "stdout",
     "output_type": "stream",
     "text": [
      "distrubutions of measures generating time: --- 11.386651515960693 seconds ---\n"
     ]
    }
   ],
   "source": [
    "class InitMeasuresStatesGenerator:\n",
    "    def __init__(self, n_qubits, num_of_basis_init_states):\n",
    "        self.n_qubits = n_qubits\n",
    "        self.num_of_basis_init_states = num_of_basis_init_states\n",
    "        self.num_of_basis_measure_states = 3\n",
    "        self.hadamar_matrix = np.array([[1.0, 1.0], \n",
    "                                        [1.0, -1.0]])/np.sqrt(2)\n",
    "        self.phase_matrix = np.array([[1.0, 0.0], \n",
    "                                      [0.0, 1.0j]])\n",
    "        self.identity_matrix = np.array([[1.0, 0.0], \n",
    "                                         [0.0, 1.0]])\n",
    "        self.rotate_one_qubit_x = np.array([[0.0, 1.0], \n",
    "                                            [1.0, 0.0]])\n",
    "        self.t_matrix = np.array([[1.0, 0.0], \n",
    "                                  [0.0, np.exp(0.25j*np.pi)]])\n",
    "        \n",
    "        self.init_combinations = []\n",
    "        self.measure_combinations = []\n",
    "    \n",
    "    @staticmethod\n",
    "    def check_dense_matrix_properties(dense_matrix):\n",
    "        if 0.9999 < np.abs(np.sum(np.diag(dense_matrix))) < 1.0001:\n",
    "            pass\n",
    "        else:\n",
    "            print(f\"Warning! trace of dense matrix is {np.abs(np.sum(np.diag(dense_matrix)))}\")\n",
    "        if np.max((np.conjugate(dense_matrix) - dense_matrix.T)) < 0.0001:\n",
    "            pass\n",
    "        else:\n",
    "            print(f\"Warning! max of (dense matrix - dense matrix_dagger) \\\n",
    "                  is {np.abs(np.sum(np.diag(dense_matrix)))}\")\n",
    "        eigs = np.linalg.eig(dense_matrix)[0]\n",
    "        if np.all(np.real(eigs) > -0.0001):\n",
    "            pass\n",
    "        else:\n",
    "            print(f'Warning! eigen values for are {np.real(eigs)} but it should all be >= 0')\n",
    "    \n",
    "    def rotator(self, dense_matrix, qubit_number: int, state_rotate_to: int, mode: str):  # z y x\n",
    "        if mode == 'measure':\n",
    "            if state_rotate_to == 1:\n",
    "                rotate_matrix = self.hadamar_matrix @ np.conjugate(self.phase_matrix).T\n",
    "            if state_rotate_to == 2:\n",
    "                rotate_matrix = self.hadamar_matrix\n",
    "        elif mode == 'init':\n",
    "            if state_rotate_to == 1:\n",
    "                rotate_matrix = self.rotate_one_qubit_x\n",
    "            if state_rotate_to == 2:\n",
    "                rotate_matrix = self.hadamar_matrix\n",
    "            if state_rotate_to == 3:\n",
    "                rotate_matrix = self.hadamar_matrix @ self.rotate_one_qubit_x\n",
    "            if state_rotate_to == 4:\n",
    "                rotate_matrix = self.phase_matrix @ self.hadamar_matrix\n",
    "            if state_rotate_to == 5:\n",
    "                rotate_matrix = self.phase_matrix @ self.hadamar_matrix @ self.rotate_one_qubit_x\n",
    "            if state_rotate_to == 6:\n",
    "                rotate_matrix = self.t_matrix @ self.hadamar_matrix\n",
    "        else:\n",
    "            raise ValueError('Wrong mode!')\n",
    "        \n",
    "        transform_matrix = 1.0\n",
    "        for i in range(self.n_qubits):\n",
    "            if i==qubit_number:\n",
    "                transform_matrix = np.kron(rotate_matrix, transform_matrix)\n",
    "            else:\n",
    "                transform_matrix = np.kron(self.identity_matrix, transform_matrix)\n",
    "        new_dense_matrix = transform_matrix @ dense_matrix @ np.conjugate(transform_matrix.T)\n",
    "        return new_dense_matrix\n",
    "    \n",
    "    def generate_combination(self, num, mode):\n",
    "        if mode == 'init':\n",
    "            max_num = self.num_of_basis_init_states\n",
    "        elif mode == 'measure':\n",
    "            max_num = self.num_of_basis_measure_states\n",
    "        else:\n",
    "            raise ValueError('unknown type of mode')\n",
    "        \n",
    "        combination = [num%max_num]\n",
    "        while num//max_num > 0:\n",
    "            num = num // max_num\n",
    "            combination.append(num%max_num)\n",
    "        \n",
    "        while len(combination) < self.n_qubits:\n",
    "            combination.append(0)\n",
    "    \n",
    "        return combination\n",
    "    \n",
    "    def generate_state(self, combination:list, dense_matrix, mode):\n",
    "        n_qubits = len(combination)\n",
    "        for i in range(n_qubits):\n",
    "            if combination[i] > 0:\n",
    "                dense_matrix = self.rotator(dense_matrix, i, combination[i], mode)\n",
    "            \n",
    "        return dense_matrix\n",
    "    \n",
    "    def generate(self, num_of_states):\n",
    "        dense_matrices = []\n",
    "        mode = 'init'\n",
    "        zero_vec = np.zeros(2**self.n_qubits)\n",
    "        zero_vec[0] = 1.0\n",
    "        zero_dense_matrix = np.diag(zero_vec)\n",
    "        for i in range(num_of_states):\n",
    "            combination = self.generate_combination(i, 'init')\n",
    "            self.init_combinations.append(combination)\n",
    "            dense_matrix = self.generate_state(combination, zero_dense_matrix, mode)\n",
    "            self.check_dense_matrix_properties(dense_matrix)\n",
    "            dense_matrices.append(dense_matrix)\n",
    "        return self.init_combinations, dense_matrices\n",
    "    \n",
    "    def get_distribution(self, dense_matrix, num_of_sample_for_one_scheme):\n",
    "        probs = np.real(np.diag(dense_matrix)).copy()\n",
    "        probs_copy = probs.copy()\n",
    "        probs[-1] = 1.0 - np.sum(probs_copy[:-1])\n",
    "        states = np.array([i for i in range(2**self.n_qubits)])\n",
    "        measures = np.random.choice(states, num_of_sample_for_one_scheme, p = probs)\n",
    "        distribution = np.zeros(2**self.n_qubits)\n",
    "        for element in measures:\n",
    "            distribution[element] += 1.0\n",
    "        return distribution / num_of_sample_for_one_scheme\n",
    "    \n",
    "    def get_distributions(self, dense_matrices: list, num_of_sample_for_one_scheme: int):\n",
    "        mode = 'measure'\n",
    "        distributions = []\n",
    "        for i in tqdm(range(len(dense_matrices))):\n",
    "            self.check_dense_matrix_properties(dense_matrices[i])\n",
    "            \n",
    "            for j in range(self.num_of_basis_measure_states**self.n_qubits):\n",
    "                combination = self.generate_combination(j, mode)\n",
    "                if len(self.measure_combinations) < self.num_of_basis_measure_states**self.n_qubits:\n",
    "                    self.measure_combinations.append(combination)  \n",
    "                basis_dense_matrix = self.generate_state(combination, dense_matrices[i], mode)\n",
    "                self.check_dense_matrix_properties(basis_dense_matrix)\n",
    "                distribution = self.get_distribution(basis_dense_matrix, num_of_sample_for_one_scheme)\n",
    "                distributions.append(distribution)\n",
    "        return self.measure_combinations, distributions\n",
    "\n",
    "num_of_basis_init_states = 6\n",
    "num_of_sample_for_one_scheme = 2000\n",
    "init_measure_states_generator = InitMeasuresStatesGenerator(n_qubits, num_of_basis_init_states)\n",
    "start_time = time.time()\n",
    "measure_combinations, distributions = init_measure_states_generator.get_distributions(dense_matrices,\n",
    "                                                                                    num_of_sample_for_one_scheme)\n",
    "print(\"distrubutions of measures generating time: --- %s seconds ---\" % (time.time() - start_time))"
   ]
  },
  {
   "cell_type": "code",
   "execution_count": 30,
   "metadata": {},
   "outputs": [],
   "source": [
    "if len(distributions) == 18**n_qubits: # 6**n_qubits * 3**n_qubits\n",
    "    pass\n",
    "else:\n",
    "    print(f\"Warning! len of distributions is {len(distributions)}, but it should be {18**n_qubits}\")"
   ]
  },
  {
   "cell_type": "code",
   "execution_count": 32,
   "metadata": {},
   "outputs": [
    {
     "name": "stdout",
     "output_type": "stream",
     "text": [
      "example of probabilities distribution: [0.033  0.1705 0.025  0.263  0.123  0.1585 0.1295 0.0975]\n"
     ]
    },
    {
     "data": {
      "image/png": "[encoded data removed]",
      "text/plain": [
       "<Figure size 432x432 with 1 Axes>"
      ]
     },
     "metadata": {
      "needs_background": "light"
     },
     "output_type": "display_data"
    }
   ],
   "source": [
    "def to_binary(number, n_qubits):\n",
    "    binary_str = ''\n",
    "    while(True):\n",
    "        if number == 0:\n",
    "            break\n",
    "        elif number % 2 == 0:\n",
    "            number = number // 2\n",
    "            binary_str = '0' + binary_str\n",
    "        else:\n",
    "            number = number // 2\n",
    "            binary_str = '1' + binary_str  \n",
    "    while(len(binary_str) < n_qubits):\n",
    "        binary_str = '0' + binary_str\n",
    "    return binary_str\n",
    "\n",
    "dist = distributions[1]  # second example\n",
    "print(f'example of probabilities distribution: {distributions[1]}')\n",
    "list_of_states = [to_binary(i, n_qubits) for i in range(2**n_qubits)]\n",
    "plt.bar(list_of_states, dist)\n",
    "plt.grid(True)\n",
    "plt.xlabel('States')\n",
    "plt.ylabel('probability')\n",
    "plt.show()"
   ]
  },
  {
   "cell_type": "code",
   "execution_count": null,
   "metadata": {},
   "outputs": [],
   "source": []
  },
  {
   "cell_type": "code",
   "execution_count": null,
   "metadata": {},
   "outputs": [],
   "source": []
  }
 ],
 "metadata": {
  "kernelspec": {
   "display_name": "Python 3",
   "language": "python",
   "name": "python3"
  },
  "language_info": {
   "codemirror_mode": {
    "name": "ipython",
    "version": 3
   },
   "file_extension": ".py",
   "mimetype": "text/x-python",
   "name": "python",
   "nbconvert_exporter": "python",
   "pygments_lexer": "ipython3",
   "version": "3.7.3"
  }
 },
 "nbformat": 4,
 "nbformat_minor": 2
}
