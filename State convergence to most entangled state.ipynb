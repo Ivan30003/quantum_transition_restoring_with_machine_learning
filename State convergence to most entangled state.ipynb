{
 "cells": [
  {
   "cell_type": "code",
   "execution_count": 1,
   "metadata": {},
   "outputs": [],
   "source": [
    "import numpy as np\n",
    "import matplotlib.pyplot as plt\n",
    "from scipy.stats import unitary_group"
   ]
  },
  {
   "cell_type": "code",
   "execution_count": 2,
   "metadata": {},
   "outputs": [],
   "source": [
    "plt.rcParams[\"figure.figsize\"] = (6,6)"
   ]
  },
  {
   "cell_type": "markdown",
   "metadata": {},
   "source": [
    "# Preparing some transition matrix"
   ]
  },
  {
   "cell_type": "code",
   "execution_count": 3,
   "metadata": {},
   "outputs": [
    {
     "name": "stdout",
     "output_type": "stream",
     "text": [
      "(64, 64)\n"
     ]
    }
   ],
   "source": [
    "n_qubits = 3\n",
    "size = 2**n_qubits\n",
    "alpha = np.random.rand()\n",
    "rand_unit_matr_1 = unitary_group.rvs(size)\n",
    "rand_unit_matr_2 = unitary_group.rvs(size)\n",
    "tensor_dot_matr_1 = np.kron(rand_unit_matr_1, np.conjugate(rand_unit_matr_1))\n",
    "tensor_dot_matr_2 = np.kron(rand_unit_matr_2, np.conjugate(rand_unit_matr_2))\n",
    "trans_matr = alpha * tensor_dot_matr_1 + (1 - alpha) * tensor_dot_matr_2\n",
    "print(trans_matr.shape)"
   ]
  },
  {
   "cell_type": "markdown",
   "metadata": {},
   "source": [
    "# State convergence to most entangled state"
   ]
  },
  {
   "cell_type": "code",
   "execution_count": 4,
   "metadata": {
    "scrolled": true
   },
   "outputs": [
    {
     "name": "stdout",
     "output_type": "stream",
     "text": [
      "0) mean_MAE = 0.03906250000000001\n",
      "1) mean_MAE = 0.07281662252157187\n",
      "2) mean_MAE = 0.05064463428603669\n",
      "3) mean_MAE = 0.03671530119229348\n",
      "4) mean_MAE = 0.026025880866894426\n",
      "5) mean_MAE = 0.016929995728971338\n",
      "6) mean_MAE = 0.012943294651480544\n",
      "7) mean_MAE = 0.010033988032618846\n",
      "8) mean_MAE = 0.008126726159152196\n",
      "9) mean_MAE = 0.005140885249023707\n",
      "10) mean_MAE = 0.004121632898044886\n",
      "11) mean_MAE = 0.002985399343063233\n",
      "12) mean_MAE = 0.0020557895681666766\n",
      "13) mean_MAE = 0.0015585430090444196\n",
      "14) mean_MAE = 0.001069583100487547\n",
      "15) mean_MAE = 0.0008909966937613099\n",
      "16) mean_MAE = 0.0006363467146021774\n",
      "17) mean_MAE = 0.00048381024131823893\n",
      "18) mean_MAE = 0.0003533632193333117\n",
      "19) mean_MAE = 0.0002583508179345916\n",
      "20) mean_MAE = 0.00019441097181044787\n",
      "21) mean_MAE = 0.00015620595622624196\n",
      "22) mean_MAE = 0.00011854047675731265\n",
      "23) mean_MAE = 8.159188760711706e-05\n",
      "24) mean_MAE = 6.235766156561146e-05\n",
      "25) mean_MAE = 4.91569098984113e-05\n",
      "26) mean_MAE = 3.6907572174376595e-05\n",
      "27) mean_MAE = 2.5273960493099423e-05\n",
      "28) mean_MAE = 1.9162831887587845e-05\n",
      "29) mean_MAE = 1.3217740602851231e-05\n",
      "30) mean_MAE = 1.0025855185323748e-05\n",
      "31) mean_MAE = 6.76203096633486e-06\n",
      "32) mean_MAE = 4.947061912230356e-06\n",
      "33) mean_MAE = 3.748576638326274e-06\n",
      "34) mean_MAE = 2.6551085340740705e-06\n",
      "35) mean_MAE = 2.105727604423252e-06\n",
      "36) mean_MAE = 1.6427367656459613e-06\n",
      "37) mean_MAE = 1.1537465962045806e-06\n",
      "38) mean_MAE = 9.130455267022059e-07\n",
      "39) mean_MAE = 7.363149019774567e-07\n",
      "40) mean_MAE = 5.81190788874891e-07\n",
      "41) mean_MAE = 4.0898056392642077e-07\n",
      "42) mean_MAE = 3.2270560921184433e-07\n",
      "43) mean_MAE = 2.5012427842565775e-07\n",
      "44) mean_MAE = 1.774215654591355e-07\n",
      "45) mean_MAE = 1.305564599637159e-07\n",
      "46) mean_MAE = 1.0089628709939975e-07\n",
      "47) mean_MAE = 7.235098001817839e-08\n",
      "48) mean_MAE = 5.2431224321556583e-08\n",
      "49) mean_MAE = 3.9372111530322586e-08\n",
      "50) mean_MAE = 3.149103250097531e-08\n",
      "51) mean_MAE = 2.3017121024691866e-08\n",
      "52) mean_MAE = 1.7471361600504525e-08\n",
      "53) mean_MAE = 1.377957710233797e-08\n",
      "54) mean_MAE = 1.0399702093187456e-08\n",
      "55) mean_MAE = 7.84418089779617e-09\n",
      "56) mean_MAE = 5.761623996984263e-09\n",
      "57) mean_MAE = 4.425157670133967e-09\n",
      "58) mean_MAE = 3.3681590023065644e-09\n",
      "59) mean_MAE = 2.4766989293775147e-09\n",
      "60) mean_MAE = 1.854737503918191e-09\n",
      "61) mean_MAE = 1.3935532479748727e-09\n",
      "62) mean_MAE = 1.0518340901297816e-09\n",
      "63) mean_MAE = 7.99098875572345e-10\n",
      "64) mean_MAE = 6.030165836910153e-10\n",
      "65) mean_MAE = 4.682151179213711e-10\n",
      "66) mean_MAE = 3.491214078383626e-10\n",
      "67) mean_MAE = 2.698981383754308e-10\n",
      "68) mean_MAE = 2.0809685361108283e-10\n",
      "69) mean_MAE = 1.544909305884725e-10\n",
      "70) mean_MAE = 1.1656224733142032e-10\n",
      "71) mean_MAE = 8.859204388826384e-11\n",
      "72) mean_MAE = 6.725551825912343e-11\n",
      "73) mean_MAE = 4.9165056131254977e-11\n",
      "74) mean_MAE = 3.77407733868741e-11\n",
      "75) mean_MAE = 2.937552524576991e-11\n",
      "76) mean_MAE = 2.192488589873152e-11\n",
      "77) mean_MAE = 1.6363995929628047e-11\n",
      "78) mean_MAE = 1.2739922014564739e-11\n",
      "79) mean_MAE = 9.68720696403171e-12\n",
      "80) mean_MAE = 7.356778124253007e-12\n",
      "81) mean_MAE = 5.4813689856626646e-12\n",
      "82) mean_MAE = 4.234873926326161e-12\n",
      "83) mean_MAE = 3.2021109922067475e-12\n",
      "84) mean_MAE = 2.4142694175011162e-12\n",
      "85) mean_MAE = 1.8187126302668118e-12\n",
      "86) mean_MAE = 1.3705153946916153e-12\n",
      "87) mean_MAE = 1.0384696700321727e-12\n",
      "88) mean_MAE = 7.798426579758782e-13\n",
      "89) mean_MAE = 5.903812326572179e-13\n",
      "90) mean_MAE = 4.4768120688618475e-13\n",
      "91) mean_MAE = 3.3987365717061076e-13\n",
      "92) mean_MAE = 2.581063684904767e-13\n",
      "93) mean_MAE = 1.9677564330430914e-13\n",
      "94) mean_MAE = 1.4900761043557365e-13\n",
      "95) mean_MAE = 1.1277660304606017e-13\n",
      "96) mean_MAE = 8.490030718844077e-14\n",
      "97) mean_MAE = 6.481626655201226e-14\n",
      "98) mean_MAE = 4.835984728009862e-14\n",
      "99) mean_MAE = 3.6995584144280066e-14\n"
     ]
    }
   ],
   "source": [
    "wave_function = np.array([np.sqrt(2)/2.0, 0, 0, np.sqrt(2)/2.0, 0, 0, 0, 0])  # 3-qubits system\n",
    "state_size = len(wave_function)\n",
    "\n",
    "density_matrix = np.kron(wave_function, wave_function.T)\n",
    "num_of_applying = 100\n",
    "density_matrix_current = np.kron(wave_function, wave_function.T)\n",
    "density_matrix_most_entangled_state = (np.eye(state_size) / state_size).reshape(state_size**2)\n",
    "\n",
    "for i in range(num_of_applying):\n",
    "    density_matrix = density_matrix_current\n",
    "    density_matrix_current = trans_matr @ density_matrix\n",
    "    print(\"{}) mean_MAE = {}\".format(i, np.mean(np.abs(density_matrix - density_matrix_most_entangled_state))))\n",
    "    \n",
    "# print(np.round(density_matrix.reshape(state_size,state_size), 3))"
   ]
  },
  {
   "cell_type": "code",
   "execution_count": null,
   "metadata": {},
   "outputs": [],
   "source": []
  },
  {
   "cell_type": "code",
   "execution_count": null,
   "metadata": {},
   "outputs": [],
   "source": []
  }
 ],
 "metadata": {
  "kernelspec": {
   "display_name": "Python 3",
   "language": "python",
   "name": "python3"
  },
  "language_info": {
   "codemirror_mode": {
    "name": "ipython",
    "version": 3
   },
   "file_extension": ".py",
   "mimetype": "text/x-python",
   "name": "python",
   "nbconvert_exporter": "python",
   "pygments_lexer": "ipython3",
   "version": "3.7.3"
  }
 },
 "nbformat": 4,
 "nbformat_minor": 2
}
